{
 "cells": [
  {
   "cell_type": "markdown",
   "metadata": {},
   "source": [
    "# 1. Instalar DEON"
   ]
  },
  {
   "cell_type": "markdown",
   "metadata": {},
   "source": [
    "https://alecokas.github.io/ethics/2020/03/11/tools-for-ethical-machine-learning-development.html"
   ]
  },
  {
   "cell_type": "code",
   "execution_count": 38,
   "metadata": {},
   "outputs": [
    {
     "name": "stdout",
     "output_type": "stream",
     "text": [
      "Requirement already satisfied: deon in c:\\python311\\lib\\site-packages (0.3.0)\n",
      "Requirement already satisfied: beautifulsoup4>=4.6.1 in c:\\python311\\lib\\site-packages (from deon) (4.12.2)\n",
      "Requirement already satisfied: click>=6.7 in c:\\python311\\lib\\site-packages (from deon) (8.1.7)\n",
      "Requirement already satisfied: pyyaml>=3.13 in c:\\python311\\lib\\site-packages (from deon) (6.0.1)\n",
      "Requirement already satisfied: soupsieve>1.2 in c:\\python311\\lib\\site-packages (from beautifulsoup4>=4.6.1->deon) (2.5)\n",
      "Requirement already satisfied: colorama in c:\\python311\\lib\\site-packages (from click>=6.7->deon) (0.4.6)\n"
     ]
    }
   ],
   "source": [
    "!pip install deon"
   ]
  },
  {
   "cell_type": "code",
   "execution_count": 39,
   "metadata": {},
   "outputs": [
    {
     "name": "stdout",
     "output_type": "stream",
     "text": [
      "Usage: python -m deon [OPTIONS]\n",
      "\n",
      "  Easily create an ethics checklist for your data science project.\n",
      "\n",
      "  The checklist will be printed to standard output by default. Use the\n",
      "  --output option to write to a file instead.\n",
      "\n",
      "Options:\n",
      "  -l, --checklist PATH  Override default checklist file with a path to a\n",
      "                        custom checklist.yml file.\n",
      "  -f, --format TEXT     Output format. Default is \"markdown\". Can be one of\n",
      "                        [ascii, html, jupyter, markdown, rmarkdown, rst].\n",
      "                        Ignored and file extension used if --output is passed.\n",
      "  -o, --output PATH     Output file path. Extension can be one of [.txt,\n",
      "                        .html, .ipynb, .md, .rmd, .rst]. The checklist is\n",
      "                        appended if the file exists.\n",
      "  -w, --overwrite       Overwrite output file if it exists. Default is False,\n",
      "                        which will append to existing file.\n",
      "  -m, --multicell       For use with Jupyter format only. Write checklist with\n",
      "                        multiple cells, one item per cell. Default is False,\n",
      "                        which will write the checklist in a single cell.\n",
      "  --help                Show this message and exit.\n"
     ]
    }
   ],
   "source": [
    "!python -m deon --help"
   ]
  },
  {
   "cell_type": "markdown",
   "metadata": {},
   "source": [
    "# 2. Crear lista de verificación ética"
   ]
  },
  {
   "cell_type": "code",
   "execution_count": 40,
   "metadata": {},
   "outputs": [
    {
     "name": "stdout",
     "output_type": "stream",
     "text": [
      "Checklist successfully written to file Lista.ipynb.\n"
     ]
    }
   ],
   "source": [
    "!python -m deon --output Lista.ipynb --checklist my_checklist.yml --overwrite"
   ]
  },
  {
   "cell_type": "markdown",
   "metadata": {},
   "source": [
    "# 1. Instalar TransparentAI"
   ]
  },
  {
   "cell_type": "code",
   "execution_count": 41,
   "metadata": {},
   "outputs": [
    {
     "name": "stdout",
     "output_type": "stream",
     "text": [
      "Requirement already satisfied: transparentai in c:\\users\\crist\\appdata\\roaming\\python\\python311\\site-packages (0.2.2)\n",
      "Requirement already satisfied: pandas in c:\\python311\\lib\\site-packages (from transparentai) (2.1.1)\n",
      "Requirement already satisfied: numpy in c:\\python311\\lib\\site-packages (from transparentai) (1.26.0)\n",
      "Requirement already satisfied: matplotlib in c:\\users\\crist\\appdata\\roaming\\python\\python311\\site-packages (from transparentai) (3.8.4)\n",
      "Requirement already satisfied: scikit-learn in c:\\python311\\lib\\site-packages (from transparentai) (1.3.1)\n",
      "Requirement already satisfied: shap in c:\\users\\crist\\appdata\\roaming\\python\\python311\\site-packages (from transparentai) (0.45.1)\n",
      "Requirement already satisfied: energyusage in c:\\users\\crist\\appdata\\roaming\\python\\python311\\site-packages (from transparentai) (0.0.14)\n",
      "Requirement already satisfied: safety in c:\\users\\crist\\appdata\\roaming\\python\\python311\\site-packages (from transparentai) (3.2.0)\n",
      "Requirement already satisfied: seaborn in c:\\users\\crist\\appdata\\roaming\\python\\python311\\site-packages (from transparentai) (0.13.2)\n",
      "Requirement already satisfied: ipywidgets in c:\\python311\\lib\\site-packages (from transparentai) (8.1.1)\n",
      "Requirement already satisfied: requests in c:\\python311\\lib\\site-packages (from energyusage->transparentai) (2.31.0)\n",
      "Requirement already satisfied: reportlab in c:\\users\\crist\\appdata\\roaming\\python\\python311\\site-packages (from energyusage->transparentai) (4.2.0)\n",
      "Requirement already satisfied: comm>=0.1.3 in c:\\python311\\lib\\site-packages (from ipywidgets->transparentai) (0.1.4)\n",
      "Requirement already satisfied: ipython>=6.1.0 in c:\\python311\\lib\\site-packages (from ipywidgets->transparentai) (8.16.0)\n",
      "Requirement already satisfied: traitlets>=4.3.1 in c:\\python311\\lib\\site-packages (from ipywidgets->transparentai) (5.10.1)\n",
      "Requirement already satisfied: widgetsnbextension~=4.0.9 in c:\\python311\\lib\\site-packages (from ipywidgets->transparentai) (4.0.9)\n",
      "Requirement already satisfied: jupyterlab-widgets~=3.0.9 in c:\\python311\\lib\\site-packages (from ipywidgets->transparentai) (3.0.9)\n",
      "Requirement already satisfied: contourpy>=1.0.1 in c:\\users\\crist\\appdata\\roaming\\python\\python311\\site-packages (from matplotlib->transparentai) (1.2.1)\n",
      "Requirement already satisfied: cycler>=0.10 in c:\\users\\crist\\appdata\\roaming\\python\\python311\\site-packages (from matplotlib->transparentai) (0.12.1)\n",
      "Requirement already satisfied: fonttools>=4.22.0 in c:\\python311\\lib\\site-packages (from matplotlib->transparentai) (4.51.0)\n",
      "Requirement already satisfied: kiwisolver>=1.3.1 in c:\\python311\\lib\\site-packages (from matplotlib->transparentai) (1.4.5)\n",
      "Requirement already satisfied: packaging>=20.0 in c:\\python311\\lib\\site-packages (from matplotlib->transparentai) (23.1)\n",
      "Requirement already satisfied: pillow>=8 in c:\\python311\\lib\\site-packages (from matplotlib->transparentai) (10.3.0)\n",
      "Requirement already satisfied: pyparsing>=2.3.1 in c:\\python311\\lib\\site-packages (from matplotlib->transparentai) (3.1.2)\n",
      "Requirement already satisfied: python-dateutil>=2.7 in c:\\python311\\lib\\site-packages (from matplotlib->transparentai) (2.8.2)\n",
      "Requirement already satisfied: pytz>=2020.1 in c:\\python311\\lib\\site-packages (from pandas->transparentai) (2023.3.post1)\n",
      "Requirement already satisfied: tzdata>=2022.1 in c:\\python311\\lib\\site-packages (from pandas->transparentai) (2023.3)\n",
      "Requirement already satisfied: setuptools>=65.5.1 in c:\\users\\crist\\appdata\\roaming\\python\\python311\\site-packages (from safety->transparentai) (69.5.1)\n",
      "Requirement already satisfied: Click>=8.0.2 in c:\\python311\\lib\\site-packages (from safety->transparentai) (8.1.7)\n",
      "Requirement already satisfied: urllib3>=1.26.5 in c:\\python311\\lib\\site-packages (from safety->transparentai) (2.0.5)\n",
      "Requirement already satisfied: dparse>=0.6.4b0 in c:\\users\\crist\\appdata\\roaming\\python\\python311\\site-packages (from safety->transparentai) (0.6.4b0)\n",
      "Requirement already satisfied: ruamel.yaml>=0.17.21 in c:\\users\\crist\\appdata\\roaming\\python\\python311\\site-packages (from safety->transparentai) (0.18.6)\n",
      "Requirement already satisfied: jinja2>=3.1.0 in c:\\python311\\lib\\site-packages (from safety->transparentai) (3.1.2)\n",
      "Requirement already satisfied: marshmallow>=3.15.0 in c:\\users\\crist\\appdata\\roaming\\python\\python311\\site-packages (from safety->transparentai) (3.21.2)\n",
      "Requirement already satisfied: Authlib>=1.2.0 in c:\\users\\crist\\appdata\\roaming\\python\\python311\\site-packages (from safety->transparentai) (1.3.0)\n",
      "Requirement already satisfied: rich in c:\\users\\crist\\appdata\\roaming\\python\\python311\\site-packages (from safety->transparentai) (13.7.1)\n",
      "Requirement already satisfied: typer in c:\\users\\crist\\appdata\\roaming\\python\\python311\\site-packages (from safety->transparentai) (0.12.3)\n",
      "Requirement already satisfied: pydantic>=1.10.12 in c:\\users\\crist\\appdata\\roaming\\python\\python311\\site-packages (from safety->transparentai) (2.7.1)\n",
      "Requirement already satisfied: safety-schemas>=0.0.2 in c:\\users\\crist\\appdata\\roaming\\python\\python311\\site-packages (from safety->transparentai) (0.0.2)\n",
      "Requirement already satisfied: typing-extensions>=4.7.1 in c:\\python311\\lib\\site-packages (from safety->transparentai) (4.11.0)\n",
      "Requirement already satisfied: scipy>=1.5.0 in c:\\python311\\lib\\site-packages (from scikit-learn->transparentai) (1.11.3)\n",
      "Requirement already satisfied: joblib>=1.1.1 in c:\\python311\\lib\\site-packages (from scikit-learn->transparentai) (1.3.2)\n",
      "Requirement already satisfied: threadpoolctl>=2.0.0 in c:\\python311\\lib\\site-packages (from scikit-learn->transparentai) (3.2.0)\n",
      "Requirement already satisfied: tqdm>=4.27.0 in c:\\python311\\lib\\site-packages (from shap->transparentai) (4.66.4)\n",
      "Requirement already satisfied: slicer==0.0.8 in c:\\python311\\lib\\site-packages (from shap->transparentai) (0.0.8)\n",
      "Requirement already satisfied: numba in c:\\users\\crist\\appdata\\roaming\\python\\python311\\site-packages (from shap->transparentai) (0.59.1)\n",
      "Requirement already satisfied: cloudpickle in c:\\users\\crist\\appdata\\roaming\\python\\python311\\site-packages (from shap->transparentai) (3.0.0)\n",
      "Requirement already satisfied: cryptography in c:\\users\\crist\\appdata\\roaming\\python\\python311\\site-packages (from Authlib>=1.2.0->safety->transparentai) (42.0.7)\n",
      "Requirement already satisfied: colorama in c:\\python311\\lib\\site-packages (from Click>=8.0.2->safety->transparentai) (0.4.6)\n",
      "Requirement already satisfied: backcall in c:\\python311\\lib\\site-packages (from ipython>=6.1.0->ipywidgets->transparentai) (0.2.0)\n",
      "Requirement already satisfied: decorator in c:\\python311\\lib\\site-packages (from ipython>=6.1.0->ipywidgets->transparentai) (5.1.1)\n",
      "Requirement already satisfied: jedi>=0.16 in c:\\python311\\lib\\site-packages (from ipython>=6.1.0->ipywidgets->transparentai) (0.19.0)\n",
      "Requirement already satisfied: matplotlib-inline in c:\\python311\\lib\\site-packages (from ipython>=6.1.0->ipywidgets->transparentai) (0.1.6)\n",
      "Requirement already satisfied: pickleshare in c:\\python311\\lib\\site-packages (from ipython>=6.1.0->ipywidgets->transparentai) (0.7.5)\n",
      "Requirement already satisfied: prompt-toolkit!=3.0.37,<3.1.0,>=3.0.30 in c:\\python311\\lib\\site-packages (from ipython>=6.1.0->ipywidgets->transparentai) (3.0.39)\n",
      "Requirement already satisfied: pygments>=2.4.0 in c:\\python311\\lib\\site-packages (from ipython>=6.1.0->ipywidgets->transparentai) (2.16.1)\n",
      "Requirement already satisfied: stack-data in c:\\python311\\lib\\site-packages (from ipython>=6.1.0->ipywidgets->transparentai) (0.6.2)\n",
      "Requirement already satisfied: MarkupSafe>=2.0 in c:\\python311\\lib\\site-packages (from jinja2>=3.1.0->safety->transparentai) (2.1.3)\n",
      "Requirement already satisfied: annotated-types>=0.4.0 in c:\\users\\crist\\appdata\\roaming\\python\\python311\\site-packages (from pydantic>=1.10.12->safety->transparentai) (0.6.0)\n",
      "Requirement already satisfied: pydantic-core==2.18.2 in c:\\users\\crist\\appdata\\roaming\\python\\python311\\site-packages (from pydantic>=1.10.12->safety->transparentai) (2.18.2)\n",
      "Requirement already satisfied: six>=1.5 in c:\\python311\\lib\\site-packages (from python-dateutil>=2.7->matplotlib->transparentai) (1.16.0)\n",
      "Requirement already satisfied: ruamel.yaml.clib>=0.2.7 in c:\\users\\crist\\appdata\\roaming\\python\\python311\\site-packages (from ruamel.yaml>=0.17.21->safety->transparentai) (0.2.8)\n",
      "Requirement already satisfied: llvmlite<0.43,>=0.42.0dev0 in c:\\users\\crist\\appdata\\roaming\\python\\python311\\site-packages (from numba->shap->transparentai) (0.42.0)\n",
      "Requirement already satisfied: chardet in c:\\users\\crist\\appdata\\roaming\\python\\python311\\site-packages (from reportlab->energyusage->transparentai) (5.2.0)\n",
      "Requirement already satisfied: charset-normalizer<4,>=2 in c:\\python311\\lib\\site-packages (from requests->energyusage->transparentai) (3.2.0)\n",
      "Requirement already satisfied: idna<4,>=2.5 in c:\\python311\\lib\\site-packages (from requests->energyusage->transparentai) (3.4)\n",
      "Requirement already satisfied: certifi>=2017.4.17 in c:\\python311\\lib\\site-packages (from requests->energyusage->transparentai) (2023.7.22)\n",
      "Requirement already satisfied: markdown-it-py>=2.2.0 in c:\\users\\crist\\appdata\\roaming\\python\\python311\\site-packages (from rich->safety->transparentai) (3.0.0)\n",
      "Requirement already satisfied: shellingham>=1.3.0 in c:\\python311\\lib\\site-packages (from typer->safety->transparentai) (1.5.4)\n",
      "Requirement already satisfied: parso<0.9.0,>=0.8.3 in c:\\python311\\lib\\site-packages (from jedi>=0.16->ipython>=6.1.0->ipywidgets->transparentai) (0.8.3)\n",
      "Requirement already satisfied: mdurl~=0.1 in c:\\users\\crist\\appdata\\roaming\\python\\python311\\site-packages (from markdown-it-py>=2.2.0->rich->safety->transparentai) (0.1.2)\n",
      "Requirement already satisfied: wcwidth in c:\\python311\\lib\\site-packages (from prompt-toolkit!=3.0.37,<3.1.0,>=3.0.30->ipython>=6.1.0->ipywidgets->transparentai) (0.2.7)\n",
      "Requirement already satisfied: cffi>=1.12 in c:\\python311\\lib\\site-packages (from cryptography->Authlib>=1.2.0->safety->transparentai) (1.16.0)\n",
      "Requirement already satisfied: executing>=1.2.0 in c:\\python311\\lib\\site-packages (from stack-data->ipython>=6.1.0->ipywidgets->transparentai) (1.2.0)\n",
      "Requirement already satisfied: asttokens>=2.1.0 in c:\\python311\\lib\\site-packages (from stack-data->ipython>=6.1.0->ipywidgets->transparentai) (2.4.0)\n",
      "Requirement already satisfied: pure-eval in c:\\python311\\lib\\site-packages (from stack-data->ipython>=6.1.0->ipywidgets->transparentai) (0.2.2)\n",
      "Requirement already satisfied: pycparser in c:\\python311\\lib\\site-packages (from cffi>=1.12->cryptography->Authlib>=1.2.0->safety->transparentai) (2.21)\n"
     ]
    }
   ],
   "source": [
    "!pip install transparentai --user"
   ]
  },
  {
   "cell_type": "code",
   "execution_count": 42,
   "metadata": {},
   "outputs": [],
   "source": [
    "import numpy as np\n",
    "import pandas as pd\n",
    "\n",
    "from sklearn.ensemble import RandomForestClassifier\n",
    "from sklearn.model_selection import train_test_split\n",
    "\n",
    "from transparentai.datasets import load_adult\n",
    "from transparentai import fairness"
   ]
  },
  {
   "cell_type": "code",
   "execution_count": 43,
   "metadata": {},
   "outputs": [],
   "source": [
    "data = load_adult()\n",
    "X, Y = data.drop(columns='income'), data['income']"
   ]
  },
  {
   "cell_type": "code",
   "execution_count": 44,
   "metadata": {},
   "outputs": [],
   "source": [
    "X = X.select_dtypes('number')\n",
    "Y = Y.replace({'>50K':1, '<=50K':0})"
   ]
  },
  {
   "cell_type": "code",
   "execution_count": 45,
   "metadata": {},
   "outputs": [],
   "source": [
    "X_train, X_valid, Y_train, Y_valid = train_test_split(X, Y, test_size=0.33, random_state=42)"
   ]
  },
  {
   "cell_type": "code",
   "execution_count": 46,
   "metadata": {},
   "outputs": [
    {
     "data": {
      "text/html": [
       "<style>#sk-container-id-2 {color: black;}#sk-container-id-2 pre{padding: 0;}#sk-container-id-2 div.sk-toggleable {background-color: white;}#sk-container-id-2 label.sk-toggleable__label {cursor: pointer;display: block;width: 100%;margin-bottom: 0;padding: 0.3em;box-sizing: border-box;text-align: center;}#sk-container-id-2 label.sk-toggleable__label-arrow:before {content: \"▸\";float: left;margin-right: 0.25em;color: #696969;}#sk-container-id-2 label.sk-toggleable__label-arrow:hover:before {color: black;}#sk-container-id-2 div.sk-estimator:hover label.sk-toggleable__label-arrow:before {color: black;}#sk-container-id-2 div.sk-toggleable__content {max-height: 0;max-width: 0;overflow: hidden;text-align: left;background-color: #f0f8ff;}#sk-container-id-2 div.sk-toggleable__content pre {margin: 0.2em;color: black;border-radius: 0.25em;background-color: #f0f8ff;}#sk-container-id-2 input.sk-toggleable__control:checked~div.sk-toggleable__content {max-height: 200px;max-width: 100%;overflow: auto;}#sk-container-id-2 input.sk-toggleable__control:checked~label.sk-toggleable__label-arrow:before {content: \"▾\";}#sk-container-id-2 div.sk-estimator input.sk-toggleable__control:checked~label.sk-toggleable__label {background-color: #d4ebff;}#sk-container-id-2 div.sk-label input.sk-toggleable__control:checked~label.sk-toggleable__label {background-color: #d4ebff;}#sk-container-id-2 input.sk-hidden--visually {border: 0;clip: rect(1px 1px 1px 1px);clip: rect(1px, 1px, 1px, 1px);height: 1px;margin: -1px;overflow: hidden;padding: 0;position: absolute;width: 1px;}#sk-container-id-2 div.sk-estimator {font-family: monospace;background-color: #f0f8ff;border: 1px dotted black;border-radius: 0.25em;box-sizing: border-box;margin-bottom: 0.5em;}#sk-container-id-2 div.sk-estimator:hover {background-color: #d4ebff;}#sk-container-id-2 div.sk-parallel-item::after {content: \"\";width: 100%;border-bottom: 1px solid gray;flex-grow: 1;}#sk-container-id-2 div.sk-label:hover label.sk-toggleable__label {background-color: #d4ebff;}#sk-container-id-2 div.sk-serial::before {content: \"\";position: absolute;border-left: 1px solid gray;box-sizing: border-box;top: 0;bottom: 0;left: 50%;z-index: 0;}#sk-container-id-2 div.sk-serial {display: flex;flex-direction: column;align-items: center;background-color: white;padding-right: 0.2em;padding-left: 0.2em;position: relative;}#sk-container-id-2 div.sk-item {position: relative;z-index: 1;}#sk-container-id-2 div.sk-parallel {display: flex;align-items: stretch;justify-content: center;background-color: white;position: relative;}#sk-container-id-2 div.sk-item::before, #sk-container-id-2 div.sk-parallel-item::before {content: \"\";position: absolute;border-left: 1px solid gray;box-sizing: border-box;top: 0;bottom: 0;left: 50%;z-index: -1;}#sk-container-id-2 div.sk-parallel-item {display: flex;flex-direction: column;z-index: 1;position: relative;background-color: white;}#sk-container-id-2 div.sk-parallel-item:first-child::after {align-self: flex-end;width: 50%;}#sk-container-id-2 div.sk-parallel-item:last-child::after {align-self: flex-start;width: 50%;}#sk-container-id-2 div.sk-parallel-item:only-child::after {width: 0;}#sk-container-id-2 div.sk-dashed-wrapped {border: 1px dashed gray;margin: 0 0.4em 0.5em 0.4em;box-sizing: border-box;padding-bottom: 0.4em;background-color: white;}#sk-container-id-2 div.sk-label label {font-family: monospace;font-weight: bold;display: inline-block;line-height: 1.2em;}#sk-container-id-2 div.sk-label-container {text-align: center;}#sk-container-id-2 div.sk-container {/* jupyter's `normalize.less` sets `[hidden] { display: none; }` but bootstrap.min.css set `[hidden] { display: none !important; }` so we also need the `!important` here to be able to override the default hidden behavior on the sphinx rendered scikit-learn.org. See: https://github.com/scikit-learn/scikit-learn/issues/21755 */display: inline-block !important;position: relative;}#sk-container-id-2 div.sk-text-repr-fallback {display: none;}</style><div id=\"sk-container-id-2\" class=\"sk-top-container\"><div class=\"sk-text-repr-fallback\"><pre>RandomForestClassifier()</pre><b>In a Jupyter environment, please rerun this cell to show the HTML representation or trust the notebook. <br />On GitHub, the HTML representation is unable to render, please try loading this page with nbviewer.org.</b></div><div class=\"sk-container\" hidden><div class=\"sk-item\"><div class=\"sk-estimator sk-toggleable\"><input class=\"sk-toggleable__control sk-hidden--visually\" id=\"sk-estimator-id-2\" type=\"checkbox\" checked><label for=\"sk-estimator-id-2\" class=\"sk-toggleable__label sk-toggleable__label-arrow\">RandomForestClassifier</label><div class=\"sk-toggleable__content\"><pre>RandomForestClassifier()</pre></div></div></div></div></div>"
      ],
      "text/plain": [
       "RandomForestClassifier()"
      ]
     },
     "execution_count": 46,
     "metadata": {},
     "output_type": "execute_result"
    }
   ],
   "source": [
    "clf = RandomForestClassifier()\n",
    "clf.fit(X_train,Y_train)"
   ]
  },
  {
   "cell_type": "code",
   "execution_count": 69,
   "metadata": {},
   "outputs": [],
   "source": [
    "y_true       = Y_train.astype(float)\n",
    "y_true_valid = Y_valid.astype(float)\n",
    "y_pred       = clf.predict_proba(X_train)\n",
    "y_pred_valid = clf.predict_proba(X_valid)"
   ]
  },
  {
   "cell_type": "code",
   "execution_count": 101,
   "metadata": {},
   "outputs": [],
   "source": [
    "privileged_group = {\n",
    "    'gender':['Male'],                \n",
    "    'marital-status': lambda x: 'Married' in x,\n",
    "    'race':['White']\n",
    "}\n",
    "\n",
    "df_valid = data.loc[X_valid.index,:]\n",
    "df_train = data.loc[X_train.index,:]"
   ]
  },
  {
   "cell_type": "code",
   "execution_count": 103,
   "metadata": {},
   "outputs": [
    {
     "data": {
      "text/plain": [
       "{'statistical_parity_difference': -0.06841011619362844,\n",
       " 'disparate_impact': 0.5872402985025538,\n",
       " 'equal_opportunity_difference': -0.04130756838043226,\n",
       " 'average_odds_difference': -0.02065378419021613}"
      ]
     },
     "execution_count": 103,
     "metadata": {},
     "output_type": "execute_result"
    }
   ],
   "source": [
    "res_train = fairness.model_bias(y_true, y_pred, df_train, privileged_group)\n",
    "res_train['gender']"
   ]
  },
  {
   "cell_type": "code",
   "execution_count": 104,
   "metadata": {},
   "outputs": [
    {
     "name": "stdout",
     "output_type": "stream",
     "text": [
      "The privileged group is predicted with the positive output 6.84% more often than the unprivileged group. This is considered to be fair.\n",
      "The privileged group is predicted with the positive output 1.70 times more often than the unprivileged group. This is considered to be not fair.\n",
      "For a person in the privileged group, the model predict a correct positive output 4.13% more often than a person in the unprivileged group. This is considered to be fair.\n",
      "For a person in the privileged group, the model predict a correct positive output or a correct negative output 2.07% more often than a person in the unprivileged group. This is considered to be fair.\n",
      "The model has 3 fair metrics over 4 (75%).\n"
     ]
    }
   ],
   "source": [
    "res_train = fairness.model_bias(y_true, y_pred, df_train, privileged_group, returns_text=True)\n",
    "print(res_train['gender'])"
   ]
  },
  {
   "cell_type": "code",
   "execution_count": 84,
   "metadata": {},
   "outputs": [],
   "source": [
    "res_valid = fairness.model_bias(y_true_valid, y_pred_valid, df_valid, privileged_group, returns_text=True)"
   ]
  },
  {
   "cell_type": "code",
   "execution_count": 85,
   "metadata": {},
   "outputs": [
    {
     "name": "stdout",
     "output_type": "stream",
     "text": [
      "{'statistical_parity_difference': -0.13273015839435442, 'disparate_impact': 0.3365011427333495, 'equal_opportunity_difference': -0.04619575675547505, 'average_odds_difference': -0.023097878377737524}\n"
     ]
    }
   ],
   "source": [
    "print(res_valid['gender'])"
   ]
  },
  {
   "cell_type": "code",
   "execution_count": null,
   "metadata": {},
   "outputs": [],
   "source": []
  }
 ],
 "metadata": {
  "kernelspec": {
   "display_name": "Python 3",
   "language": "python",
   "name": "python3"
  },
  "language_info": {
   "codemirror_mode": {
    "name": "ipython",
    "version": 3
   },
   "file_extension": ".py",
   "mimetype": "text/x-python",
   "name": "python",
   "nbconvert_exporter": "python",
   "pygments_lexer": "ipython3",
   "version": "3.11.4"
  }
 },
 "nbformat": 4,
 "nbformat_minor": 2
}
