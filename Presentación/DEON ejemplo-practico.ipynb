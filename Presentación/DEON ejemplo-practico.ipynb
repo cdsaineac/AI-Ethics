{
 "cells": [
  {
   "cell_type": "markdown",
   "metadata": {},
   "source": [
    "# 1. Instalar DEON"
   ]
  },
  {
   "cell_type": "markdown",
   "metadata": {},
   "source": [
    "https://alecokas.github.io/ethics/2020/03/11/tools-for-ethical-machine-learning-development.html"
   ]
  },
  {
   "cell_type": "code",
   "execution_count": 38,
   "metadata": {},
   "outputs": [
    {
     "name": "stdout",
     "output_type": "stream",
     "text": [
      "Requirement already satisfied: deon in c:\\python311\\lib\\site-packages (0.3.0)\n",
      "Requirement already satisfied: beautifulsoup4>=4.6.1 in c:\\python311\\lib\\site-packages (from deon) (4.12.2)\n",
      "Requirement already satisfied: click>=6.7 in c:\\python311\\lib\\site-packages (from deon) (8.1.7)\n",
      "Requirement already satisfied: pyyaml>=3.13 in c:\\python311\\lib\\site-packages (from deon) (6.0.1)\n",
      "Requirement already satisfied: soupsieve>1.2 in c:\\python311\\lib\\site-packages (from beautifulsoup4>=4.6.1->deon) (2.5)\n",
      "Requirement already satisfied: colorama in c:\\python311\\lib\\site-packages (from click>=6.7->deon) (0.4.6)\n"
     ]
    }
   ],
   "source": [
    "!pip install deon"
   ]
  },
  {
   "cell_type": "code",
   "execution_count": 39,
   "metadata": {},
   "outputs": [
    {
     "name": "stdout",
     "output_type": "stream",
     "text": [
      "Usage: python -m deon [OPTIONS]\n",
      "\n",
      "  Easily create an ethics checklist for your data science project.\n",
      "\n",
      "  The checklist will be printed to standard output by default. Use the\n",
      "  --output option to write to a file instead.\n",
      "\n",
      "Options:\n",
      "  -l, --checklist PATH  Override default checklist file with a path to a\n",
      "                        custom checklist.yml file.\n",
      "  -f, --format TEXT     Output format. Default is \"markdown\". Can be one of\n",
      "                        [ascii, html, jupyter, markdown, rmarkdown, rst].\n",
      "                        Ignored and file extension used if --output is passed.\n",
      "  -o, --output PATH     Output file path. Extension can be one of [.txt,\n",
      "                        .html, .ipynb, .md, .rmd, .rst]. The checklist is\n",
      "                        appended if the file exists.\n",
      "  -w, --overwrite       Overwrite output file if it exists. Default is False,\n",
      "                        which will append to existing file.\n",
      "  -m, --multicell       For use with Jupyter format only. Write checklist with\n",
      "                        multiple cells, one item per cell. Default is False,\n",
      "                        which will write the checklist in a single cell.\n",
      "  --help                Show this message and exit.\n"
     ]
    }
   ],
   "source": [
    "!python -m deon --help"
   ]
  },
  {
   "cell_type": "markdown",
   "metadata": {},
   "source": [
    "# 2. Crear lista de verificación ética"
   ]
  },
  {
   "cell_type": "code",
   "execution_count": 40,
   "metadata": {},
   "outputs": [
    {
     "name": "stdout",
     "output_type": "stream",
     "text": [
      "Checklist successfully written to file Lista.ipynb.\n"
     ]
    }
   ],
   "source": [
    "!python -m deon --output Lista.ipynb --checklist my_checklist.yml --overwrite"
   ]
  }
 ],
 "metadata": {
  "kernelspec": {
   "display_name": "Python 3",
   "language": "python",
   "name": "python3"
  },
  "language_info": {
   "codemirror_mode": {
    "name": "ipython",
    "version": 3
   },
   "file_extension": ".py",
   "mimetype": "text/x-python",
   "name": "python",
   "nbconvert_exporter": "python",
   "pygments_lexer": "ipython3",
   "version": "3.11.4"
  }
 },
 "nbformat": 4,
 "nbformat_minor": 2
}
